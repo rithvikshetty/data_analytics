{
 "cells": [
  {
   "cell_type": "code",
   "execution_count": null,
   "metadata": {},
   "outputs": [],
   "source": [
    "import os\n",
    "os.chdir(\"HYBRID-main\")\n",
    "import optimizer as opt\n",
    "optimizer=[\"HYBRID\"] \n",
    "objectivefunc=[\"F3\",\"F4\"]  \n",
    "NumOfRuns=10  \n",
    "params = {'PopulationSize' : 30, 'Iterations' : 10}\n",
    "export_flags = {'Export_avg':True, 'Export_details':True, 'Export_convergence':True, 'Export_boxplot':True}\n",
    "opt.run(optimizer,objectivefunc,NumOfRuns,params,export_flags)"
   ]
  },
  {
   "cell_type": "code",
   "execution_count": null,
   "metadata": {},
   "outputs": [],
   "source": [
    "import pandas as pd\n",
    "import datetime\n",
    "import os\n",
    "import ipywidgets as widgets"
   ]
  },
  {
   "cell_type": "code",
   "execution_count": null,
   "metadata": {},
   "outputs": [],
   "source": [
    "fname = [ f for f in os.listdir() if f.startswith(str(datetime.datetime.now().year))]\n",
    "drop  = widgets.Dropdown(options=fname,description='Select Folder:')\n",
    "drop "
   ]
  },
  {
   "cell_type": "code",
   "execution_count": null,
   "metadata": {},
   "outputs": [],
   "source": [
    "f = '2021-12-18-19-21-41'\n",
    "f = f+'/experiment.csv'\n",
    "df = pd.read_csv(f)\n",
    "df.head(10)"
   ]
  },
  {
   "cell_type": "code",
   "execution_count": null,
   "metadata": {},
   "outputs": [],
   "source": []
  }
 ],
 "metadata": {
  "kernelspec": {
   "display_name": "Python 3",
   "language": "python",
   "name": "python3"
  },
  "language_info": {
   "codemirror_mode": {
    "name": "ipython",
    "version": 3
   },
   "file_extension": ".py",
   "mimetype": "text/x-python",
   "name": "python",
   "nbconvert_exporter": "python",
   "pygments_lexer": "ipython3",
   "version": "3.8.3"
  }
 },
 "nbformat": 4,
 "nbformat_minor": 4
}
